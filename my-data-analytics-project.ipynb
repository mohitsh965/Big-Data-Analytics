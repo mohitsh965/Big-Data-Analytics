{
 "cells": [
  {
   "cell_type": "markdown",
   "metadata": {
    "application/vnd.databricks.v1+cell": {
     "cellMetadata": {},
     "inputWidgets": {},
     "nuid": "ace1c10d-f7ac-4ab9-8119-213f983e5573",
     "showTitle": false,
     "tableResultSettingsMap": {},
     "title": ""
    }
   },
   "source": [
    "# STEP 1: Mount the AWS S3 Bucket named \"my-databricks-project\" to the Databricks with the access key and secret access key."
   ]
  },
  {
   "cell_type": "code",
   "execution_count": 0,
   "metadata": {
    "application/vnd.databricks.v1+cell": {
     "cellMetadata": {},
     "inputWidgets": {},
     "nuid": "aefba78f-357a-4454-a19c-20e0efabed1e",
     "showTitle": true,
     "tableResultSettingsMap": {},
     "title": "Mount AWS S3 Bucket"
    }
   },
   "outputs": [],
   "source": [
    "ACCESS_KEY = \"\"      #fill out the saved access key \n",
    "SECRET_KEY = \"\"      #fill out the saved secret access key\n",
    "ENCODED_SECRET_KEY = SECRET_KEY.replace(\"/\", \"%2F\")\n",
    "\n",
    "AWS_BUCKET_NAME = \"my-databricks-project\"\n",
    "MOUNT_NAME = \"/mnt/dataco_smart_supply\"\n",
    "\n",
    "dbutils.fs.mount(\n",
    "  source = f\"s3a://{ACCESS_KEY}:{ENCODED_SECRET_KEY}@{AWS_BUCKET_NAME}\",\n",
    "  mount_point = MOUNT_NAME\n",
    ")\n"
   ]
  },
  {
   "cell_type": "markdown",
   "metadata": {
    "application/vnd.databricks.v1+cell": {
     "cellMetadata": {},
     "inputWidgets": {},
     "nuid": "38ea1e92-5dec-4a66-8315-1629633f2a29",
     "showTitle": false,
     "tableResultSettingsMap": {},
     "title": ""
    }
   },
   "source": [
    "### Verify Mounting of AWS S3 Bucket"
   ]
  },
  {
   "cell_type": "code",
   "execution_count": 0,
   "metadata": {
    "application/vnd.databricks.v1+cell": {
     "cellMetadata": {
      "byteLimit": 2048000,
      "rowLimit": 10000
     },
     "inputWidgets": {},
     "nuid": "915ab927-894c-4e17-a491-c8887d184c9d",
     "showTitle": true,
     "tableResultSettingsMap": {},
     "title": "Verify Mounting"
    }
   },
   "outputs": [
    {
     "data": {
      "text/html": [
       "<style scoped>\n",
       "  .table-result-container {\n",
       "    max-height: 300px;\n",
       "    overflow: auto;\n",
       "  }\n",
       "  table, th, td {\n",
       "    border: 1px solid black;\n",
       "    border-collapse: collapse;\n",
       "  }\n",
       "  th, td {\n",
       "    padding: 5px;\n",
       "  }\n",
       "  th {\n",
       "    text-align: left;\n",
       "  }\n",
       "</style><div class='table-result-container'><table class='table-result'><thead style='background-color: white'><tr><th>path</th><th>name</th><th>size</th><th>modificationTime</th></tr></thead><tbody><tr><td>dbfs:/mnt/dataco_smart_supply/DataCoSupplyChainDataset.csv</td><td>DataCoSupplyChainDataset.csv</td><td>95910149</td><td>1741358507000</td></tr></tbody></table></div>"
      ]
     },
     "metadata": {
      "application/vnd.databricks.v1+output": {
       "addedWidgets": {},
       "aggData": [],
       "aggError": "",
       "aggOverflow": false,
       "aggSchema": [],
       "aggSeriesLimitReached": false,
       "aggType": "",
       "arguments": {},
       "columnCustomDisplayInfos": {},
       "data": [
        [
         "dbfs:/mnt/dataco_smart_supply/DataCoSupplyChainDataset.csv",
         "DataCoSupplyChainDataset.csv",
         95910149,
         1741358507000
        ]
       ],
       "datasetInfos": [],
       "dbfsResultPath": null,
       "isJsonSchema": true,
       "metadata": {},
       "overflow": false,
       "plotOptions": {
        "customPlotOptions": {},
        "displayType": "table",
        "pivotAggregation": null,
        "pivotColumns": null,
        "xColumns": null,
        "yColumns": null
       },
       "removedWidgets": [],
       "schema": [
        {
         "metadata": "{}",
         "name": "path",
         "type": "\"string\""
        },
        {
         "metadata": "{}",
         "name": "name",
         "type": "\"string\""
        },
        {
         "metadata": "{}",
         "name": "size",
         "type": "\"long\""
        },
        {
         "metadata": "{}",
         "name": "modificationTime",
         "type": "\"long\""
        }
       ],
       "type": "table"
      }
     },
     "output_type": "display_data"
    }
   ],
   "source": [
    "display(dbutils.fs.ls(\"/mnt/dataco_smart_supply\"))"
   ]
  },
  {
   "cell_type": "markdown",
   "metadata": {
    "application/vnd.databricks.v1+cell": {
     "cellMetadata": {},
     "inputWidgets": {},
     "nuid": "6e88364b-ea8b-44e0-8af0-eb3edc16a245",
     "showTitle": false,
     "tableResultSettingsMap": {},
     "title": ""
    }
   },
   "source": [
    "### Read the dataset from the AWS S3 Blob Storage"
   ]
  },
  {
   "cell_type": "code",
   "execution_count": 0,
   "metadata": {
    "application/vnd.databricks.v1+cell": {
     "cellMetadata": {
      "byteLimit": 2048000,
      "rowLimit": 10000
     },
     "inputWidgets": {},
     "nuid": "bc63aa5c-8da7-46a6-a633-7be68dd40106",
     "showTitle": true,
     "tableResultSettingsMap": {},
     "title": "Read the dataset"
    }
   },
   "outputs": [
    {
     "name": "stdout",
     "output_type": "stream",
     "text": [
      "+--------+------------------------+-----------------------------+-----------------+------------------+----------------+------------------+-----------+--------------+-------------+----------------+--------------+--------------+-----------+--------------+-----------------+----------------+--------------+--------------------+----------------+-------------+---------------+-----------+------------+------------+----------+-------------+-----------------+-----------------------+--------+----------------------+-------------------+------------------------+-------------+------------------------+-----------------------+-------------------+------+----------------+----------------------+--------------+---------------+---------------+-------------+---------------+-------------------+-------------------+--------------------+------------+-------------+--------------+--------------------------+--------------+\n",
      "|    Type|Days for shipping (real)|Days for shipment (scheduled)|Benefit per order|Sales per customer| Delivery Status|Late_delivery_risk|Category Id| Category Name|Customer City|Customer Country|Customer Email|Customer Fname|Customer Id|Customer Lname|Customer Password|Customer Segment|Customer State|     Customer Street|Customer Zipcode|Department Id|Department Name|   Latitude|   Longitude|      Market|Order City|Order Country|Order Customer Id|order date (DateOrders)|Order Id|Order Item Cardprod Id|Order Item Discount|Order Item Discount Rate|Order Item Id|Order Item Product Price|Order Item Profit Ratio|Order Item Quantity| Sales|Order Item Total|Order Profit Per Order|  Order Region|    Order State|   Order Status|Order Zipcode|Product Card Id|Product Category Id|Product Description|       Product Image|Product Name|Product Price|Product Status|shipping date (DateOrders)| Shipping Mode|\n",
      "+--------+------------------------+-----------------------------+-----------------+------------------+----------------+------------------+-----------+--------------+-------------+----------------+--------------+--------------+-----------+--------------+-----------------+----------------+--------------+--------------------+----------------+-------------+---------------+-----------+------------+------------+----------+-------------+-----------------+-----------------------+--------+----------------------+-------------------+------------------------+-------------+------------------------+-----------------------+-------------------+------+----------------+----------------------+--------------+---------------+---------------+-------------+---------------+-------------------+-------------------+--------------------+------------+-------------+--------------+--------------------------+--------------+\n",
      "|   DEBIT|                       3|                            4|            91.25|       314.6400146|Advance shipping|                 0|         73|Sporting Goods|       Caguas|     Puerto Rico|     XXXXXXXXX|         Cally|      20755|      Holloway|        XXXXXXXXX|        Consumer|            PR|5365 Noble Nectar...|             725|            2|        Fitness| 18.2514534|-66.03705597|Pacific Asia|    Bekasi|    Indonesia|            20755|        1/31/2018 22:56|   77202|                  1360|        13.10999966|             0.039999999|       180517|                  327.75|            0.289999992|                  1|327.75|     314.6400146|                 91.25|Southeast Asia|Java Occidental|       COMPLETE|         null|           1360|                 73|               null|http://images.acm...|Smart watch |       327.75|             0|            2/3/2018 22:56|Standard Class|\n",
      "|TRANSFER|                       5|                            4|     -249.0899963|       311.3599854|   Late delivery|                 1|         73|Sporting Goods|       Caguas|     Puerto Rico|     XXXXXXXXX|         Irene|      19492|          Luna|        XXXXXXXXX|        Consumer|            PR|    2679 Rustic Loop|             725|            2|        Fitness|18.27945137| -66.0370636|Pacific Asia|   Bikaner|        India|            19492|        1/13/2018 12:27|   75939|                  1360|        16.38999939|             0.050000001|       179254|                  327.75|           -0.800000012|                  1|327.75|     311.3599854|          -249.0899963|    South Asia|       Rajast�n|        PENDING|         null|           1360|                 73|               null|http://images.acm...|Smart watch |       327.75|             0|           1/18/2018 12:27|Standard Class|\n",
      "|    CASH|                       4|                            4|     -247.7799988|       309.7200012|Shipping on time|                 0|         73|Sporting Goods|     San Jose|         EE. UU.|     XXXXXXXXX|       Gillian|      19491|     Maldonado|        XXXXXXXXX|        Consumer|            CA|8510 Round Bear Gate|           95125|            2|        Fitness|37.29223251| -121.881279|Pacific Asia|   Bikaner|        India|            19491|        1/13/2018 12:06|   75938|                  1360|        18.03000069|             0.059999999|       179253|                  327.75|           -0.800000012|                  1|327.75|     309.7200012|          -247.7799988|    South Asia|       Rajast�n|         CLOSED|         null|           1360|                 73|               null|http://images.acm...|Smart watch |       327.75|             0|           1/17/2018 12:06|Standard Class|\n",
      "|   DEBIT|                       3|                            4|      22.86000061|       304.8099976|Advance shipping|                 0|         73|Sporting Goods|  Los Angeles|         EE. UU.|     XXXXXXXXX|          Tana|      19490|          Tate|        XXXXXXXXX|     Home Office|            CA|     3200 Amber Bend|           90027|            2|        Fitness|34.12594605|-118.2910156|Pacific Asia|Townsville|    Australia|            19490|        1/13/2018 11:45|   75937|                  1360|        22.94000053|                    0.07|       179252|                  327.75|            0.079999998|                  1|327.75|     304.8099976|           22.86000061|       Oceania|     Queensland|       COMPLETE|         null|           1360|                 73|               null|http://images.acm...|Smart watch |       327.75|             0|           1/16/2018 11:45|Standard Class|\n",
      "| PAYMENT|                       2|                            4|      134.2100067|            298.25|Advance shipping|                 0|         73|Sporting Goods|       Caguas|     Puerto Rico|     XXXXXXXXX|          Orli|      19489|     Hendricks|        XXXXXXXXX|       Corporate|            PR|8671 Iron Anchor ...|             725|            2|        Fitness|18.25376892|-66.03704834|Pacific Asia|Townsville|    Australia|            19489|        1/13/2018 11:24|   75936|                  1360|               29.5|             0.090000004|       179251|                  327.75|            0.449999988|                  1|327.75|          298.25|           134.2100067|       Oceania|     Queensland|PENDING_PAYMENT|         null|           1360|                 73|               null|http://images.acm...|Smart watch |       327.75|             0|           1/15/2018 11:24|Standard Class|\n",
      "+--------+------------------------+-----------------------------+-----------------+------------------+----------------+------------------+-----------+--------------+-------------+----------------+--------------+--------------+-----------+--------------+-----------------+----------------+--------------+--------------------+----------------+-------------+---------------+-----------+------------+------------+----------+-------------+-----------------+-----------------------+--------+----------------------+-------------------+------------------------+-------------+------------------------+-----------------------+-------------------+------+----------------+----------------------+--------------+---------------+---------------+-------------+---------------+-------------------+-------------------+--------------------+------------+-------------+--------------+--------------------------+--------------+\n",
      "only showing top 5 rows\n",
      "\n"
     ]
    }
   ],
   "source": [
    "df = spark.read.format(\"csv\") \\\n",
    "    .option(\"header\", \"true\") \\\n",
    "    .option(\"inferSchema\", \"true\") \\\n",
    "    .load(\"/mnt/dataco_smart_supply/DataCoSupplyChainDataset.csv\")\n",
    "\n",
    "# Show Dataset Sample\n",
    "df.show(5)\n"
   ]
  },
  {
   "cell_type": "markdown",
   "metadata": {
    "application/vnd.databricks.v1+cell": {
     "cellMetadata": {},
     "inputWidgets": {},
     "nuid": "c190eb3a-598a-49ec-aceb-e08a95a3f641",
     "showTitle": false,
     "tableResultSettingsMap": {},
     "title": ""
    }
   },
   "source": [
    "### Check the Names of the columns in the dataset along with their stored datatype"
   ]
  },
  {
   "cell_type": "code",
   "execution_count": 0,
   "metadata": {
    "application/vnd.databricks.v1+cell": {
     "cellMetadata": {
      "byteLimit": 2048000,
      "rowLimit": 10000
     },
     "inputWidgets": {},
     "nuid": "460cb9ef-cdf2-45bc-92a4-4d91d488af74",
     "showTitle": true,
     "tableResultSettingsMap": {},
     "title": "Dataset Columns"
    }
   },
   "outputs": [
    {
     "name": "stdout",
     "output_type": "stream",
     "text": [
      "root\n",
      " |-- Type: string (nullable = true)\n",
      " |-- Days for shipping (real): integer (nullable = true)\n",
      " |-- Days for shipment (scheduled): integer (nullable = true)\n",
      " |-- Benefit per order: double (nullable = true)\n",
      " |-- Sales per customer: double (nullable = true)\n",
      " |-- Delivery Status: string (nullable = true)\n",
      " |-- Late_delivery_risk: integer (nullable = true)\n",
      " |-- Category Id: integer (nullable = true)\n",
      " |-- Category Name: string (nullable = true)\n",
      " |-- Customer City: string (nullable = true)\n",
      " |-- Customer Country: string (nullable = true)\n",
      " |-- Customer Email: string (nullable = true)\n",
      " |-- Customer Fname: string (nullable = true)\n",
      " |-- Customer Id: integer (nullable = true)\n",
      " |-- Customer Lname: string (nullable = true)\n",
      " |-- Customer Password: string (nullable = true)\n",
      " |-- Customer Segment: string (nullable = true)\n",
      " |-- Customer State: string (nullable = true)\n",
      " |-- Customer Street: string (nullable = true)\n",
      " |-- Customer Zipcode: integer (nullable = true)\n",
      " |-- Department Id: integer (nullable = true)\n",
      " |-- Department Name: string (nullable = true)\n",
      " |-- Latitude: double (nullable = true)\n",
      " |-- Longitude: double (nullable = true)\n",
      " |-- Market: string (nullable = true)\n",
      " |-- Order City: string (nullable = true)\n",
      " |-- Order Country: string (nullable = true)\n",
      " |-- Order Customer Id: integer (nullable = true)\n",
      " |-- order date (DateOrders): string (nullable = true)\n",
      " |-- Order Id: integer (nullable = true)\n",
      " |-- Order Item Cardprod Id: integer (nullable = true)\n",
      " |-- Order Item Discount: double (nullable = true)\n",
      " |-- Order Item Discount Rate: double (nullable = true)\n",
      " |-- Order Item Id: integer (nullable = true)\n",
      " |-- Order Item Product Price: double (nullable = true)\n",
      " |-- Order Item Profit Ratio: double (nullable = true)\n",
      " |-- Order Item Quantity: integer (nullable = true)\n",
      " |-- Sales: double (nullable = true)\n",
      " |-- Order Item Total: double (nullable = true)\n",
      " |-- Order Profit Per Order: double (nullable = true)\n",
      " |-- Order Region: string (nullable = true)\n",
      " |-- Order State: string (nullable = true)\n",
      " |-- Order Status: string (nullable = true)\n",
      " |-- Order Zipcode: integer (nullable = true)\n",
      " |-- Product Card Id: integer (nullable = true)\n",
      " |-- Product Category Id: integer (nullable = true)\n",
      " |-- Product Description: string (nullable = true)\n",
      " |-- Product Image: string (nullable = true)\n",
      " |-- Product Name: string (nullable = true)\n",
      " |-- Product Price: double (nullable = true)\n",
      " |-- Product Status: integer (nullable = true)\n",
      " |-- shipping date (DateOrders): string (nullable = true)\n",
      " |-- Shipping Mode: string (nullable = true)\n",
      "\n"
     ]
    }
   ],
   "source": [
    "df.printSchema()"
   ]
  },
  {
   "cell_type": "markdown",
   "metadata": {
    "application/vnd.databricks.v1+cell": {
     "cellMetadata": {},
     "inputWidgets": {},
     "nuid": "0e35e3c8-fba3-4515-8d90-baa4442a7dc0",
     "showTitle": false,
     "tableResultSettingsMap": {},
     "title": ""
    }
   },
   "source": [
    "## STEP 2: Data Cleaning"
   ]
  },
  {
   "cell_type": "markdown",
   "metadata": {
    "application/vnd.databricks.v1+cell": {
     "cellMetadata": {},
     "inputWidgets": {},
     "nuid": "415a07ae-3389-4909-b082-de9a4b7f7fd3",
     "showTitle": false,
     "tableResultSettingsMap": {},
     "title": ""
    }
   },
   "source": [
    "### Remove Missing Values"
   ]
  },
  {
   "cell_type": "code",
   "execution_count": 0,
   "metadata": {
    "application/vnd.databricks.v1+cell": {
     "cellMetadata": {
      "byteLimit": 2048000,
      "rowLimit": 10000
     },
     "inputWidgets": {},
     "nuid": "8be6aeaa-23d0-406c-a64a-de9ce1f0e51b",
     "showTitle": true,
     "tableResultSettingsMap": {},
     "title": "Remove Missing Values"
    }
   },
   "outputs": [],
   "source": [
    "df_clean = df.na.drop()"
   ]
  },
  {
   "cell_type": "markdown",
   "metadata": {
    "application/vnd.databricks.v1+cell": {
     "cellMetadata": {},
     "inputWidgets": {},
     "nuid": "357cf6d7-e338-4487-972e-eb4d7e5e6347",
     "showTitle": false,
     "tableResultSettingsMap": {},
     "title": ""
    }
   },
   "source": [
    "### Remove Duplicate Rows"
   ]
  },
  {
   "cell_type": "code",
   "execution_count": 0,
   "metadata": {
    "application/vnd.databricks.v1+cell": {
     "cellMetadata": {
      "byteLimit": 2048000,
      "rowLimit": 10000
     },
     "inputWidgets": {},
     "nuid": "bc3ec16b-510b-469e-ba3f-1a934f28f9b0",
     "showTitle": true,
     "tableResultSettingsMap": {},
     "title": "Remove Duplicate Rows"
    }
   },
   "outputs": [],
   "source": [
    "df_clean = df_clean.dropDuplicates()"
   ]
  },
  {
   "cell_type": "markdown",
   "metadata": {
    "application/vnd.databricks.v1+cell": {
     "cellMetadata": {},
     "inputWidgets": {},
     "nuid": "7783dafc-4335-44df-9295-513b30ff7964",
     "showTitle": false,
     "tableResultSettingsMap": {},
     "title": ""
    }
   },
   "source": [
    "### Convert Date Columns to Proper Format"
   ]
  },
  {
   "cell_type": "code",
   "execution_count": 0,
   "metadata": {
    "application/vnd.databricks.v1+cell": {
     "cellMetadata": {
      "byteLimit": 2048000,
      "rowLimit": 10000
     },
     "inputWidgets": {},
     "nuid": "151195b6-533e-4edc-b2b1-51e84a1c363b",
     "showTitle": true,
     "tableResultSettingsMap": {},
     "title": "Convert Date Columns to Proper Format"
    }
   },
   "outputs": [],
   "source": [
    "from pyspark.sql.functions import to_date\n",
    "\n",
    "df_clean = df_clean.withColumn(\"order date (DateOrders)\", to_date(df_clean[\"order date (DateOrders)\"], \"yyyy-MM-dd\"))\n",
    "df_clean = df_clean.withColumn(\"shipping date (DateOrders)\", to_date(df_clean[\"shipping date (DateOrders)\"], \"yyyy-MM-dd\"))"
   ]
  },
  {
   "cell_type": "markdown",
   "metadata": {
    "application/vnd.databricks.v1+cell": {
     "cellMetadata": {},
     "inputWidgets": {},
     "nuid": "6404c720-623d-4d80-be97-fbf43ecc74d0",
     "showTitle": false,
     "tableResultSettingsMap": {},
     "title": ""
    }
   },
   "source": [
    "## STEP 3: Data Transformation for the Meaningful Insights"
   ]
  },
  {
   "cell_type": "markdown",
   "metadata": {
    "application/vnd.databricks.v1+cell": {
     "cellMetadata": {},
     "inputWidgets": {},
     "nuid": "f4260e4b-3979-4ecb-a4c2-7240adaad2a8",
     "showTitle": false,
     "tableResultSettingsMap": {},
     "title": ""
    }
   },
   "source": [
    "### Top 10 Product Categories"
   ]
  },
  {
   "cell_type": "code",
   "execution_count": 0,
   "metadata": {
    "application/vnd.databricks.v1+cell": {
     "cellMetadata": {
      "byteLimit": 2048000,
      "rowLimit": 10000
     },
     "inputWidgets": {},
     "nuid": "70b0d669-06a4-4d3e-a8e7-4a0004a42be3",
     "showTitle": true,
     "tableResultSettingsMap": {},
     "title": "Top 10 Product Categories"
    }
   },
   "outputs": [
    {
     "name": "stdout",
     "output_type": "stream",
     "text": [
      "+--------------------+------------------+\n",
      "|       Category Name|       Total_Sales|\n",
      "+--------------------+------------------+\n",
      "|             Fishing| 6929653.690574931|\n",
      "|              Cleats| 4431942.783185065|\n",
      "|    Camping & Hiking| 4118425.571018985|\n",
      "|    Cardio Equipment|3694843.1966299606|\n",
      "|     Women's Apparel|         3147800.0|\n",
      "|        Water Sports| 3113844.684857893|\n",
      "|      Men's Footwear|2891757.6623528693|\n",
      "|Indoor/Outdoor Games|2888993.9135054224|\n",
      "|       Shop By Sport|1309522.0414546824|\n",
      "|           Computers|          663000.0|\n",
      "+--------------------+------------------+\n",
      "\n"
     ]
    }
   ],
   "source": [
    "from pyspark.sql.functions import col, sum\n",
    "\n",
    "top_categories = df.groupBy(\"Category Name\") \\\n",
    "                   .agg(sum(\"Sales\").alias(\"Total_Sales\")) \\\n",
    "                   .orderBy(col(\"Total_Sales\").desc()) \\\n",
    "                   .limit(10)\n",
    "\n",
    "top_categories.show()\n"
   ]
  },
  {
   "cell_type": "markdown",
   "metadata": {
    "application/vnd.databricks.v1+cell": {
     "cellMetadata": {},
     "inputWidgets": {},
     "nuid": "9d5eed57-5ede-43d8-a618-e586c8ef8bc7",
     "showTitle": false,
     "tableResultSettingsMap": {},
     "title": ""
    }
   },
   "source": [
    "### Top 10 Most Frequent Customers"
   ]
  },
  {
   "cell_type": "code",
   "execution_count": 0,
   "metadata": {
    "application/vnd.databricks.v1+cell": {
     "cellMetadata": {
      "byteLimit": 2048000,
      "rowLimit": 10000
     },
     "inputWidgets": {},
     "nuid": "9e39e820-0bd1-410c-a284-4a2f4a64f7c3",
     "showTitle": true,
     "tableResultSettingsMap": {},
     "title": "Top 10 Most Frequent Customers"
    }
   },
   "outputs": [
    {
     "name": "stdout",
     "output_type": "stream",
     "text": [
      "+--------------+--------------+------------+\n",
      "|Customer Fname|Customer Lname|Total_Orders|\n",
      "+--------------+--------------+------------+\n",
      "|          Mary|         Smith|       23884|\n",
      "|        Robert|         Smith|         744|\n",
      "|         James|         Smith|         726|\n",
      "|         David|         Smith|         723|\n",
      "|          John|         Smith|         645|\n",
      "|       William|         Smith|         525|\n",
      "|     Elizabeth|         Smith|         476|\n",
      "|          Mary|         Jones|         465|\n",
      "|       Michael|         Smith|         460|\n",
      "|   Christopher|         Smith|         428|\n",
      "+--------------+--------------+------------+\n",
      "\n"
     ]
    }
   ],
   "source": [
    "from pyspark.sql.functions import count\n",
    "\n",
    "top_customers = df.groupBy(\"Customer Fname\", \"Customer Lname\") \\\n",
    "                  .agg(count(\"Order Id\").alias(\"Total_Orders\")) \\\n",
    "                  .orderBy(col(\"Total_Orders\").desc()) \\\n",
    "                  .limit(10)\n",
    "\n",
    "top_customers.show()\n"
   ]
  },
  {
   "cell_type": "markdown",
   "metadata": {
    "application/vnd.databricks.v1+cell": {
     "cellMetadata": {},
     "inputWidgets": {},
     "nuid": "19106c87-1e69-4c7b-8159-33f1bc7f75a0",
     "showTitle": false,
     "tableResultSettingsMap": {},
     "title": ""
    }
   },
   "source": [
    "### Delivery Performance Analysis (Delay V/S Average Profit Per Order)"
   ]
  },
  {
   "cell_type": "code",
   "execution_count": 0,
   "metadata": {
    "application/vnd.databricks.v1+cell": {
     "cellMetadata": {
      "byteLimit": 2048000,
      "rowLimit": 10000
     },
     "inputWidgets": {},
     "nuid": "2964543c-8508-4a86-ae5f-d459eeb287a6",
     "showTitle": true,
     "tableResultSettingsMap": {},
     "title": "Delivery Performance Analysis (Delay V/S Average Profit Per Order)"
    }
   },
   "outputs": [
    {
     "name": "stdout",
     "output_type": "stream",
     "text": [
      "+-----+---------------------------+\n",
      "|Delay|avg(Order Profit Per Order)|\n",
      "+-----+---------------------------+\n",
      "|   -2|          23.42352811273813|\n",
      "|    0|          22.53202148402705|\n",
      "|    1|         21.940581587680732|\n",
      "|    4|          21.56120150330889|\n",
      "|   -1|          21.51699729013785|\n",
      "|    2|          21.24623859510574|\n",
      "|    3|         19.941130174914466|\n",
      "+-----+---------------------------+\n",
      "\n"
     ]
    }
   ],
   "source": [
    "from pyspark.sql.functions import col, when\n",
    "\n",
    "df = df.withColumn(\"Delay\", col(\"Days for shipping (real)\") - col(\"Days for shipment (scheduled)\"))\n",
    "\n",
    "# Analyzing the impact of delay on profitability\n",
    "delay_profit_analysis = df.groupBy(\"Delay\") \\\n",
    "    .agg({\"Order Profit Per Order\": \"avg\"}) \\\n",
    "    .orderBy(col(\"avg(Order Profit Per Order)\").desc())\n",
    "\n",
    "delay_profit_analysis.show()\n"
   ]
  },
  {
   "cell_type": "markdown",
   "metadata": {
    "application/vnd.databricks.v1+cell": {
     "cellMetadata": {},
     "inputWidgets": {},
     "nuid": "83318a92-21a5-4efd-ad73-3def272425ef",
     "showTitle": false,
     "tableResultSettingsMap": {},
     "title": ""
    }
   },
   "source": [
    "## STEP 4: MYSQL Server JDBC Connection and storing dataframes"
   ]
  },
  {
   "cell_type": "markdown",
   "metadata": {
    "application/vnd.databricks.v1+cell": {
     "cellMetadata": {},
     "inputWidgets": {},
     "nuid": "f509add8-afde-43e1-aff4-dc9b98df0b41",
     "showTitle": false,
     "tableResultSettingsMap": {},
     "title": ""
    }
   },
   "source": [
    "### Connect the Databricks notebook with the MYSQL username and password "
   ]
  },
  {
   "cell_type": "code",
   "execution_count": 0,
   "metadata": {
    "application/vnd.databricks.v1+cell": {
     "cellMetadata": {
      "byteLimit": 2048000,
      "rowLimit": 10000
     },
     "inputWidgets": {},
     "nuid": "3c8e2e49-563e-4509-a4b7-b6f462558242",
     "showTitle": false,
     "tableResultSettingsMap": {},
     "title": ""
    }
   },
   "outputs": [
    {
     "name": "stdout",
     "output_type": "stream",
     "text": [
      "Server Connected\n"
     ]
    }
   ],
   "source": [
    "# MySQL Connection Configuration\n",
    "jdbc_url = \"jdbc:mysql://localhost:3306/dataco_supply_chain\"\n",
    "\n",
    "connection_properties = {\n",
    "    \"user\": \"root\",\n",
    "    \"password\": \"123\",\n",
    "    \"driver\": \"com.mysql.cj.jdbc.Driver\"\n",
    "}\n",
    "print(\"Server Connected\")\n"
   ]
  },
  {
   "cell_type": "markdown",
   "metadata": {
    "application/vnd.databricks.v1+cell": {
     "cellMetadata": {},
     "inputWidgets": {},
     "nuid": "22d51f1a-cedf-4f2d-af2f-9cacb3968c3e",
     "showTitle": false,
     "tableResultSettingsMap": {},
     "title": ""
    }
   },
   "source": [
    "### Save Top 10 Product Categories to MYSQL"
   ]
  },
  {
   "cell_type": "code",
   "execution_count": 0,
   "metadata": {
    "application/vnd.databricks.v1+cell": {
     "cellMetadata": {},
     "inputWidgets": {},
     "nuid": "e8afe4a9-a674-4e16-8ce5-7d8f9a51ae68",
     "showTitle": false,
     "tableResultSettingsMap": {},
     "title": ""
    }
   },
   "outputs": [],
   "source": [
    "top_10_product_categories.write.jdbc(\n",
    "    url=jdbc_url,\n",
    "    table=\"top_10_product_categories\",\n",
    "    mode=\"overwrite\",\n",
    "    properties=connection_properties\n",
    ")\n",
    "print(\"Top 10 Product Categories stored successfully!\")"
   ]
  },
  {
   "cell_type": "markdown",
   "metadata": {
    "application/vnd.databricks.v1+cell": {
     "cellMetadata": {},
     "inputWidgets": {},
     "nuid": "663e7516-f61a-4e0e-90d6-0a5fdc26032a",
     "showTitle": false,
     "tableResultSettingsMap": {},
     "title": ""
    }
   },
   "source": [
    "### Save Top 10 Frequent Customers to MYSQL"
   ]
  },
  {
   "cell_type": "code",
   "execution_count": 0,
   "metadata": {
    "application/vnd.databricks.v1+cell": {
     "cellMetadata": {},
     "inputWidgets": {},
     "nuid": "2844270b-f730-487b-bfdd-8ae6ba2921a2",
     "showTitle": true,
     "tableResultSettingsMap": {},
     "title": "Save Top 10 Frequent Customers"
    }
   },
   "outputs": [],
   "source": [
    "top_10_frequent_customers.write.jdbc(\n",
    "    url=jdbc_url,\n",
    "    table=\"top_10_frequent_customers\",\n",
    "    mode=\"overwrite\",\n",
    "    properties=connection_properties\n",
    ")\n",
    "print(\"Top 10 Frequent Customers stored successfully!\")\n"
   ]
  },
  {
   "cell_type": "markdown",
   "metadata": {
    "application/vnd.databricks.v1+cell": {
     "cellMetadata": {},
     "inputWidgets": {},
     "nuid": "8a8ada75-49ce-4c7c-b4c7-58866dda6678",
     "showTitle": false,
     "tableResultSettingsMap": {},
     "title": ""
    }
   },
   "source": [
    "### Save Delivery Performance Analysis to MYSQL"
   ]
  },
  {
   "cell_type": "code",
   "execution_count": 0,
   "metadata": {
    "application/vnd.databricks.v1+cell": {
     "cellMetadata": {},
     "inputWidgets": {},
     "nuid": "19c5c6d0-a3c8-40a8-b26d-070866e28ba4",
     "showTitle": true,
     "tableResultSettingsMap": {},
     "title": "Save Delivery Performance Analysis"
    }
   },
   "outputs": [],
   "source": [
    "delivery_performance_analysis.write.jdbc(\n",
    "    url=jdbc_url,\n",
    "    table=\"delivery_performance_analysis\",\n",
    "    mode=\"overwrite\",\n",
    "    properties=connection_properties\n",
    ")\n",
    "print(\"Delivery Performance Analysis stored successfully!\")\n"
   ]
  },
  {
   "cell_type": "markdown",
   "metadata": {
    "application/vnd.databricks.v1+cell": {
     "cellMetadata": {},
     "inputWidgets": {},
     "nuid": "810eda39-8df3-4e82-9b5a-c6855b7a9e75",
     "showTitle": false,
     "tableResultSettingsMap": {},
     "title": ""
    }
   },
   "source": []
  }
 ],
 "metadata": {
  "application/vnd.databricks.v1+notebook": {
   "computePreferences": null,
   "dashboards": [],
   "environmentMetadata": {
    "base_environment": "",
    "client": "1"
   },
   "language": "python",
   "notebookMetadata": {
    "pythonIndentUnit": 4
   },
   "notebookName": "my-data-analytics-project",
   "widgets": {}
  },
  "language_info": {
   "name": "python"
  }
 },
 "nbformat": 4,
 "nbformat_minor": 0
}
